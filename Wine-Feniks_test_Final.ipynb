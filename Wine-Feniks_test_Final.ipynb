{
 "cells": [
  {
   "cell_type": "code",
   "execution_count": 33,
   "metadata": {},
   "outputs": [],
   "source": [
    "##Gets links of wineries\n",
    "wine_name=[]\n",
    "wineries_links=driver.find_elements_by_class_name('post-tile')\n",
    "for wine in wineries_links:\n",
    "    name=wine.find_element_by_xpath('.//*[contains(concat( \" \", @class, \" \" ), concat( \" \", \"cond\", \" \" ))]').text\n",
    "    link=wine.find_element_by_css_selector('a').get_attribute('href')\n",
    "    wine_first={'name':name,\n",
    "                'link':link}\n",
    "    wine_name.append(wine_first)   \n",
    "    \n",
    "    \n",
    "    \n",
    "#saves file with links    \n",
    "df_wine_name=pd.DataFrame(wine_name)\n",
    "df_wine_name.to_csv(r'/Users/jose1/Desktop/FENIKS_Desktop/WINE_Scraping/Winary_name_link.csv')\n",
    "\n",
    "link_all=wine_name_link.link\n",
    "    \n",
    "\n"
   ]
  },
  {
   "cell_type": "code",
   "execution_count": 172,
   "metadata": {},
   "outputs": [
    {
     "name": "stderr",
     "output_type": "stream",
     "text": [
      "[WDM] - Current google-chrome version is 85.0.4183\n",
      "[WDM] - Get LATEST driver version for 85.0.4183\n",
      "[WDM] - Driver [/Users/jose1/.wdm/drivers/chromedriver/mac64/85.0.4183.87/chromedriver] found in cache\n"
     ]
    },
    {
     "name": "stdout",
     "output_type": "stream",
     "text": [
      " \n"
     ]
    }
   ],
   "source": [
    "#Gets data from each of the wineries' landing pages\n",
    " \n",
    "# Python code to merge dict using a single  \n",
    "# expression \n",
    "def Merge(dict1, dict2,dict3): \n",
    "    res = {**dict1, **dict2, **dict3} \n",
    "    return res \n",
    "      \n",
    "wine_add_tot_F=[]\n",
    "wine_add_tot_2=[]\n",
    "driver = webdriver.Chrome(ChromeDriverManager().install())\n",
    "\n",
    "for winery_link in link_all:\n",
    "    driver.get(winery_link)\n",
    "    name_content=driver.find_elements_by_class_name('member-main')\n",
    "    for names in  name_content:\n",
    "        name_winary=names.find_element_by_xpath('.//*[contains(concat( \" \", @class, \" \" ), concat( \" \", \"member-name\", \" \" ))]').text\n",
    "        name_add={'name_w':name_winary} \n",
    "        wine_add_tot_2.append(name_add)\n",
    "        \n",
    "    winery_content=driver.find_elements_by_class_name('sidebar-content')\n",
    "    for winery_info in winery_content:\n",
    "        address=winery_info.find_element_by_xpath('.//*[contains(concat( \" \", @class, \" \" ), concat( \" \", \"nbm\", \" \" ))]').text\n",
    "        GeoCoord=winery_info.find_element_by_css_selector('a').get_attribute('href')\n",
    "        wine_add={'address':address,\n",
    "                  'GeoCoord':GeoCoord,\n",
    "                   'link':winery_link}\n",
    "        wine_add_tot_2.append(wine_add)\n",
    "           \n",
    "            \n",
    "    for winery_c in winery_content:\n",
    "        contacts=winery_c.find_elements_by_class_name('contact')\n",
    "        all_contact=[]   \n",
    "        for i in list(contacts):\n",
    "            all_contact.append(i.text.strip())\n",
    "        contact_all_wine={'all_contact':all_contact} \n",
    "        wine_add_tot_2.append(contact_all_wine)\n",
    "        \n",
    "    wine_add_tot_F.append(Merge(name_add,wine_add,contact_all_wine)) \n",
    "   \n",
    "\n",
    "\n",
    "\n",
    "df_wine_add=pd.DataFrame(wine_add_tot_F) \n"
   ]
  },
  {
   "cell_type": "code",
   "execution_count": 176,
   "metadata": {},
   "outputs": [],
   "source": [
    "#Saves the winnery information in a file\n",
    "df_wine_add.to_csv(r'/Users/jose1/Desktop/FENIKS_Desktop/WINE_Scraping/Winary_all.csv')"
   ]
  },
  {
   "cell_type": "code",
   "execution_count": null,
   "metadata": {},
   "outputs": [],
   "source": []
  }
 ],
 "metadata": {
  "kernelspec": {
   "display_name": "DataCamp",
   "language": "python",
   "name": "datacamp"
  },
  "language_info": {
   "codemirror_mode": {
    "name": "ipython",
    "version": 3
   },
   "file_extension": ".py",
   "mimetype": "text/x-python",
   "name": "python",
   "nbconvert_exporter": "python",
   "pygments_lexer": "ipython3",
   "version": "3.7.7"
  }
 },
 "nbformat": 4,
 "nbformat_minor": 2
}
